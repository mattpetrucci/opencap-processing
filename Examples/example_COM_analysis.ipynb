{
 "cells": [
  {
   "cell_type": "markdown",
   "metadata": {},
   "source": [
    "<a href=\"https://colab.research.google.com/github/stanfordnmbl/opencap-processing/blob/main/Examples/example_COM_analysis.ipynb\" target=\"_parent\"><img src=\"https://colab.research.google.com/assets/colab-badge.svg\" alt=\"Open In Colab\"/></a>"
   ]
  },
  {
   "cell_type": "markdown",
   "metadata": {},
   "source": [
    "# Jumping technique analysis\n",
    "\n",
    "In this example, we will compare different jumping techniques using data measured with OpenCap.\n",
    "\n",
    "We will first set up our environment, then download and process OpenCap data, and finally analyze some results."
   ]
  },
  {
   "cell_type": "markdown",
   "metadata": {},
   "source": [
    "# Install OpenSim using condacolab\n",
    "\n",
    "The first step is to install [condacolab](https://github.com/conda-incubator/condacolab) in your notebook. Once is this complete, you can use conda to install the OpenSim Conda package into the enviroment. Note, this might take a few minutes to complete."
   ]
  },
  {
   "cell_type": "code",
   "execution_count": null,
   "metadata": {},
   "outputs": [],
   "source": [
    "!pip install -q condacolab\n",
    "import condacolab\n",
    "condacolab.install()\n",
    "!conda install -c opensim_admin opensim"
   ]
  },
  {
   "cell_type": "markdown",
   "metadata": {},
   "source": [
    "# Import the opencap-processing source code\n",
    "\n",
    "This example is part of the opencap-processing Github repo. Let's clone this repo here and install some Python packages."
   ]
  },
  {
   "cell_type": "code",
   "execution_count": null,
   "metadata": {},
   "outputs": [],
   "source": [
    "!git clone https://github.com/stanfordnmbl/opencap-processing.git\n",
    "%cd /content/opencap-processing\n",
    "!python3 -m pip install -r requirements.txt"
   ]
  },
  {
   "cell_type": "markdown",
   "metadata": {},
   "source": [
    "If the block above runs successfully, you should see that it installed several Python packages. You should get a message looking like this:\n",
    "\n",
    "```\n",
    "Successfully installed asttokens-2.2.1 backcall-0.2.0 casadi-3.6.3 cmake-3.26.4 contourpy-1.1.0 cycler-0.11.0 decorator-5.1.1 evdev-1.6.1 executing-1.2.0 fonttools-4.41.0 ipython-8.14.0 jedi-0.18.2 joblib-1.3.1 kiwisolver-1.4.4 maskpass-0.3.6 matplotlib-3.7.2 matplotlib-inline-0.1.6 packaging-23.1 pandas-2.0.3 parso-0.8.3 pexpect-4.8.0 pickleshare-0.7.5 pillow-10.0.0 prompt-toolkit-3.0.39 ptyprocess-0.7.0 pure-eval-0.2.2 pygments-2.15.1 pynput-1.7.6 pyparsing-3.0.9 python-dateutil-2.8.2 python-decouple-3.8 python-xlib-0.33 pytz-2023.3 pyyaml-6.0 scipy-1.11.1 six-1.16.0 stack-data-0.6.2 traitlets-5.9.0 tzdata-2023.3 wcwidth-0.2.6\n",
    "```"
   ]
  },
  {
   "cell_type": "markdown",
   "metadata": {},
   "source": [
    "# Import packages\n",
    "\n",
    "Now that the correct Python packages have been installed and the source code has been cloned to this notebook, you can import packages specific to this script.\n",
    "\n",
    "Note, you will be prompted to login to OpenCap with your account. If you have not created an account, you can visit [opencap.ai](https://opencap.ai) and click \"Start Recording\" to create an account. This will enable you to authenticate and analyze your own data in the future."
   ]
  },
  {
   "cell_type": "code",
   "execution_count": null,
   "metadata": {},
   "outputs": [],
   "source": [
    "import os\n",
    "import sys\n",
    "sys.path.append(\"..\")\n",
    "import numpy as np\n",
    "import matplotlib.pyplot as plt\n",
    "import utilsKinematics\n",
    "from utils import download_kinematics"
   ]
  },
  {
   "cell_type": "markdown",
   "metadata": {},
   "source": [
    "You should see a `Login successful` message."
   ]
  },
  {
   "cell_type": "markdown",
   "metadata": {},
   "source": [
    "# Download data\n",
    "\n",
    "First, enter the session ID of the OpenCap data collection containing the jumping data. This will be used to download the data directly from OpenCap. Then, run the following block of code to download the data."
   ]
  },
  {
   "cell_type": "code",
   "execution_count": null,
   "metadata": {},
   "outputs": [],
   "source": [
    "\n",
    "# Specify session id; see end of url in app.opencap.ai/session/<session_id>.\n",
    "session_id = \"3ef5cfad-cf8a-420b-af15-2d833a33cfb8\"\n",
    "\n",
    "# Specify trial names in a list; use None to process all trials in a session.\n",
    "specific_trial_names = None \n",
    "\n",
    "# Specify where to download the data.\n",
    "data_folder = os.path.join(\"./../Data\", session_id)\n",
    "\n",
    "# Download data.\n",
    "trial_names, modelName = download_kinematics(session_id, folder=data_folder, trialNames=specific_trial_names)"
   ]
  },
  {
   "cell_type": "markdown",
   "metadata": {},
   "source": [
    "# Process data\n",
    "\n",
    "Now that the data has been downloaded, you can extract kinematic parameters using OpenSim. To do so, we use a class named `utilsKinematics.py`. Take a look at the `utilsKinematics.py` code in the github repo to see all the available functions.\n",
    "\n",
    "For this example, we will extract the center of mass values, speeds, and accelerations of the different trials."
   ]
  },
  {
   "cell_type": "code",
   "execution_count": null,
   "metadata": {},
   "outputs": [],
   "source": [
    "# Get center of mass kinematics.\n",
    "kinematics, center_of_mass = {}, {}\n",
    "center_of_mass['values'], center_of_mass['speeds'], center_of_mass['accelerations'] = {}, {}, {}\n",
    "for trial_name in trial_names:\n",
    "    # Create object from class kinematics.\n",
    "    kinematics[trial_name] = utilsKinematics.kinematics(data_folder, trial_name, modelName=modelName, lowpass_cutoff_frequency_for_coordinate_values=10)\n",
    "    # Get center of mass values, speeds, and accelerations.\n",
    "    center_of_mass['values'][trial_name] = kinematics[trial_name].get_center_of_mass_values(lowpass_cutoff_frequency=10)\n",
    "    center_of_mass['speeds'][trial_name] = kinematics[trial_name].get_center_of_mass_speeds(lowpass_cutoff_frequency=10)\n",
    "    center_of_mass['accelerations'][trial_name] = kinematics[trial_name].get_center_of_mass_accelerations(lowpass_cutoff_frequency=10)"
   ]
  },
  {
   "cell_type": "markdown",
   "metadata": {},
   "source": [
    "# Analyze data (part 1)\n",
    "\n",
    "Let's now compare the center of mass values and speeds between our trials. "
   ]
  },
  {
   "cell_type": "code",
   "execution_count": null,
   "metadata": {},
   "outputs": [],
   "source": [
    "# Plot center of mass vertical values and speeds.\n",
    "fig, axs = plt.subplots(2, 1, figsize=(6, 6), sharex=True)\n",
    "for trial_name in trial_names:\n",
    "    # Align signals based on peak velocity.\n",
    "    idx_peak_velocity = np.argmax(center_of_mass['speeds'][trial_name]['y'])\n",
    "    time = center_of_mass['speeds'][trial_name]['time']\n",
    "    x = time - time[idx_peak_velocity]\n",
    "    # Plot center of mass values.\n",
    "    y_values = center_of_mass['values'][trial_name]['y']\n",
    "    y = y_values-y_values[0]\n",
    "    axs[0].plot(x, y, label=trial_name, linewidth=3)\n",
    "    # Plot center of mass speeds.\n",
    "    y_speeds = center_of_mass['speeds'][trial_name]['y']\n",
    "    y = y_speeds-y_speeds[0]\n",
    "    axs[1].plot(x, y, label=trial_name, linewidth=3)\n",
    "    \n",
    "# Figure setttings.\n",
    "for ax in axs:\n",
    "    # Add labels.    \n",
    "    ax.legend(fontsize=14)\n",
    "    # Remove top and right borders.\n",
    "    ax.spines['top'].set_visible(False)\n",
    "    ax.spines['right'].set_visible(False)\n",
    "    # Change font size.\n",
    "    ax.tick_params(axis='both', which='major', labelsize=16)\n",
    "    # Change size labels.\n",
    "    ax.xaxis.label.set_size(16)\n",
    "    ax.yaxis.label.set_size(16)\n",
    "# Add labels.\n",
    "axs[0].set_ylabel('CoM position (m)')\n",
    "axs[1].set_ylabel('CoM velocity (m/s)')\n",
    "axs[1].set_xlabel('Time (s)')\n",
    "fig.align_ylabels(axs)"
   ]
  },
  {
   "cell_type": "markdown",
   "metadata": {},
   "source": [
    "# Analyze data (part 2)\n",
    "\n",
    "Finally, let's compare the vertical forces results from the center of mass accelerations. To approximate these forces we will do a simple F = ma calculation."
   ]
  },
  {
   "cell_type": "code",
   "execution_count": null,
   "metadata": {},
   "outputs": [],
   "source": [
    "# Plot vertical forces from accelerations (F=ma).\n",
    "fig, ax = plt.subplots(1, 1, figsize=(6, 3))\n",
    "gravity = 9.81\n",
    "for trial_name in trial_names:\n",
    "    # Align signals based on peak velocity.\n",
    "    idx_peak_velocity = np.argmax(center_of_mass['speeds'][trial_name]['y'])\n",
    "    time = center_of_mass['speeds'][trial_name]['time']\n",
    "    x = time - time[idx_peak_velocity]\n",
    "    # Plot vertical ground reaction force.\n",
    "    y_accelerations = center_of_mass['accelerations'][trial_name]['y']\n",
    "    y = (y_accelerations + gravity) / gravity # vGRF expressed in bodyweights: vGRF = m(a+g)/mg\n",
    "    ax.plot(x, y, label=trial_name, linewidth=3)\n",
    "\n",
    "# Figure setttings.\n",
    "# Add labels. \n",
    "ax.set_ylabel('vGRF (bodyweight)')\n",
    "ax.set_xlabel('Time (s)')   \n",
    "ax.legend(fontsize=14)\n",
    "# Remove top and right borders.\n",
    "ax.spines['top'].set_visible(False)\n",
    "ax.spines['right'].set_visible(False)\n",
    "# Change font size.\n",
    "ax.tick_params(axis='both', which='major', labelsize=16)\n",
    "# Change size labels.\n",
    "ax.xaxis.label.set_size(16)\n",
    "ax.yaxis.label.set_size(16)"
   ]
  },
  {
   "cell_type": "markdown",
   "metadata": {},
   "source": [
    "Version 1.0\n",
    "\n",
    "Creators: Antoine Falisse, Scott Uhlrich.\n",
    "Last Updated on July 17, 2023\n",
    "\n",
    "You can also find a non-Colab version of this script [here](https://github.com/stanfordnmbl/opencap-processing/blob/main/Examples/example_COM_analysis.py)\n",
    "\n",
    "This notebook is made available under the [Apache 2.0 license](https://www.apache.org/licenses/LICENSE-2.0)."
   ]
  },
  {
   "cell_type": "markdown",
   "metadata": {},
   "source": []
  }
 ],
 "metadata": {
  "kernelspec": {
   "display_name": "py37",
   "language": "python",
   "name": "python3"
  },
  "language_info": {
   "codemirror_mode": {
    "name": "ipython",
    "version": 3
   },
   "file_extension": ".py",
   "mimetype": "text/x-python",
   "name": "python",
   "nbconvert_exporter": "python",
   "pygments_lexer": "ipython3",
   "version": "3.7.10"
  },
  "orig_nbformat": 4
 },
 "nbformat": 4,
 "nbformat_minor": 2
}
